{
 "cells": [
  {
   "cell_type": "markdown",
   "metadata": {
    "pycharm": {
     "name": "#%%\n"
    }
   },
   "source": [
    "# Modeling with logistic regression"
   ]
  },
  {
   "cell_type": "code",
   "execution_count": 80,
   "metadata": {
    "pycharm": {
     "is_executing": false,
     "name": "#%%\n"
    }
   },
   "outputs": [],
   "source": [
    "#importing libraries \n",
    "import pandas as pd \n",
    "import numpy as np\n",
    "import matplotlib.pyplot as plt\n",
    "%matplotlib inline\n",
    "import seaborn as sns"
   ]
  },
  {
   "cell_type": "code",
   "execution_count": 81,
   "metadata": {
    "pycharm": {
     "name": "#%%\n"
    }
   },
   "outputs": [],
   "source": [
    "#reading the data\n",
    "data=pd.read_csv('Data/DirectMarketing_Cln_Classification.csv')"
   ]
  },
  {
   "cell_type": "code",
   "execution_count": 82,
   "metadata": {
    "pycharm": {
     "name": "#%%\n"
    }
   },
   "outputs": [
    {
     "data": {
      "text/plain": [
       "(1000, 15)"
      ]
     },
     "execution_count": 82,
     "metadata": {},
     "output_type": "execute_result"
    }
   ],
   "source": [
    "#shape of the data\n",
    "data.shape"
   ]
  },
  {
   "cell_type": "code",
   "execution_count": 83,
   "metadata": {
    "pycharm": {
     "name": "#%%\n"
    }
   },
   "outputs": [
    {
     "data": {
      "text/html": [
       "<div>\n",
       "<style scoped>\n",
       "    .dataframe tbody tr th:only-of-type {\n",
       "        vertical-align: middle;\n",
       "    }\n",
       "\n",
       "    .dataframe tbody tr th {\n",
       "        vertical-align: top;\n",
       "    }\n",
       "\n",
       "    .dataframe thead th {\n",
       "        text-align: right;\n",
       "    }\n",
       "</style>\n",
       "<table border=\"1\" class=\"dataframe\">\n",
       "  <thead>\n",
       "    <tr style=\"text-align: right;\">\n",
       "      <th></th>\n",
       "      <th>Salary</th>\n",
       "      <th>Children</th>\n",
       "      <th>Catalogs</th>\n",
       "      <th>Middle</th>\n",
       "      <th>Old</th>\n",
       "      <th>Young</th>\n",
       "      <th>Female</th>\n",
       "      <th>Male</th>\n",
       "      <th>Own</th>\n",
       "      <th>Rent</th>\n",
       "      <th>Married</th>\n",
       "      <th>Single</th>\n",
       "      <th>Close</th>\n",
       "      <th>Far</th>\n",
       "      <th>Amt_Spnt_Class</th>\n",
       "    </tr>\n",
       "  </thead>\n",
       "  <tbody>\n",
       "    <tr>\n",
       "      <th>0</th>\n",
       "      <td>47500</td>\n",
       "      <td>0</td>\n",
       "      <td>6</td>\n",
       "      <td>0</td>\n",
       "      <td>1</td>\n",
       "      <td>0</td>\n",
       "      <td>1</td>\n",
       "      <td>0</td>\n",
       "      <td>1</td>\n",
       "      <td>0</td>\n",
       "      <td>0</td>\n",
       "      <td>1</td>\n",
       "      <td>0</td>\n",
       "      <td>1</td>\n",
       "      <td>Low</td>\n",
       "    </tr>\n",
       "    <tr>\n",
       "      <th>1</th>\n",
       "      <td>63600</td>\n",
       "      <td>0</td>\n",
       "      <td>6</td>\n",
       "      <td>1</td>\n",
       "      <td>0</td>\n",
       "      <td>0</td>\n",
       "      <td>0</td>\n",
       "      <td>1</td>\n",
       "      <td>0</td>\n",
       "      <td>1</td>\n",
       "      <td>0</td>\n",
       "      <td>1</td>\n",
       "      <td>1</td>\n",
       "      <td>0</td>\n",
       "      <td>Med</td>\n",
       "    </tr>\n",
       "    <tr>\n",
       "      <th>2</th>\n",
       "      <td>13500</td>\n",
       "      <td>0</td>\n",
       "      <td>18</td>\n",
       "      <td>0</td>\n",
       "      <td>0</td>\n",
       "      <td>1</td>\n",
       "      <td>1</td>\n",
       "      <td>0</td>\n",
       "      <td>0</td>\n",
       "      <td>1</td>\n",
       "      <td>0</td>\n",
       "      <td>1</td>\n",
       "      <td>1</td>\n",
       "      <td>0</td>\n",
       "      <td>Low</td>\n",
       "    </tr>\n",
       "    <tr>\n",
       "      <th>3</th>\n",
       "      <td>85600</td>\n",
       "      <td>1</td>\n",
       "      <td>18</td>\n",
       "      <td>1</td>\n",
       "      <td>0</td>\n",
       "      <td>0</td>\n",
       "      <td>0</td>\n",
       "      <td>1</td>\n",
       "      <td>1</td>\n",
       "      <td>0</td>\n",
       "      <td>1</td>\n",
       "      <td>0</td>\n",
       "      <td>1</td>\n",
       "      <td>0</td>\n",
       "      <td>High</td>\n",
       "    </tr>\n",
       "    <tr>\n",
       "      <th>4</th>\n",
       "      <td>68400</td>\n",
       "      <td>0</td>\n",
       "      <td>12</td>\n",
       "      <td>1</td>\n",
       "      <td>0</td>\n",
       "      <td>0</td>\n",
       "      <td>1</td>\n",
       "      <td>0</td>\n",
       "      <td>1</td>\n",
       "      <td>0</td>\n",
       "      <td>0</td>\n",
       "      <td>1</td>\n",
       "      <td>1</td>\n",
       "      <td>0</td>\n",
       "      <td>Med</td>\n",
       "    </tr>\n",
       "  </tbody>\n",
       "</table>\n",
       "</div>"
      ],
      "text/plain": [
       "   Salary  Children  Catalogs  Middle  Old  Young  Female  Male  Own  Rent  \\\n",
       "0   47500         0         6       0    1      0       1     0    1     0   \n",
       "1   63600         0         6       1    0      0       0     1    0     1   \n",
       "2   13500         0        18       0    0      1       1     0    0     1   \n",
       "3   85600         1        18       1    0      0       0     1    1     0   \n",
       "4   68400         0        12       1    0      0       1     0    1     0   \n",
       "\n",
       "   Married  Single  Close  Far Amt_Spnt_Class  \n",
       "0        0       1      0    1            Low  \n",
       "1        0       1      1    0            Med  \n",
       "2        0       1      1    0            Low  \n",
       "3        1       0      1    0           High  \n",
       "4        0       1      1    0            Med  "
      ]
     },
     "execution_count": 83,
     "metadata": {},
     "output_type": "execute_result"
    }
   ],
   "source": [
    "#first five rows of the data\n",
    "data.head()"
   ]
  },
  {
   "cell_type": "code",
   "execution_count": 84,
   "metadata": {},
   "outputs": [
    {
     "name": "stdout",
     "output_type": "stream",
     "text": [
      "Index(['Salary', 'Children', 'Catalogs', 'Middle', 'Old', 'Young', 'Female',\n",
      "       'Male', 'Own', 'Rent', 'Married', 'Single', 'Close', 'Far',\n",
      "       'Amt_Spnt_Class'],\n",
      "      dtype='object')\n"
     ]
    }
   ],
   "source": [
    "print(data.columns)"
   ]
  },
  {
   "cell_type": "code",
   "execution_count": 85,
   "metadata": {
    "pycharm": {
     "name": "#%%\n"
    }
   },
   "outputs": [
    {
     "data": {
      "text/plain": [
       "Salary            0\n",
       "Children          0\n",
       "Catalogs          0\n",
       "Middle            0\n",
       "Old               0\n",
       "Young             0\n",
       "Female            0\n",
       "Male              0\n",
       "Own               0\n",
       "Rent              0\n",
       "Married           0\n",
       "Single            0\n",
       "Close             0\n",
       "Far               0\n",
       "Amt_Spnt_Class    0\n",
       "dtype: int64"
      ]
     },
     "execution_count": 85,
     "metadata": {},
     "output_type": "execute_result"
    }
   ],
   "source": [
    "#checking missing values in the data\n",
    "data.isnull().sum()"
   ]
  },
  {
   "cell_type": "code",
   "execution_count": 86,
   "metadata": {
    "pycharm": {
     "name": "#%%\n"
    }
   },
   "outputs": [],
   "source": [
    "#seperating independent and dependent variables\n",
    "X = data.drop(['Amt_Spnt_Class'], axis=1)\n",
    "y = data['Amt_Spnt_Class']\n"
   ]
  },
  {
   "cell_type": "code",
   "execution_count": 87,
   "metadata": {},
   "outputs": [
    {
     "name": "stdout",
     "output_type": "stream",
     "text": [
      "     Salary  Children  Catalogs  Middle  Old  Young  Female  Male  Own  Rent  \\\n",
      "0     47500         0         6       0    1      0       1     0    1     0   \n",
      "1     63600         0         6       1    0      0       0     1    0     1   \n",
      "2     13500         0        18       0    0      1       1     0    0     1   \n",
      "3     85600         1        18       1    0      0       0     1    1     0   \n",
      "4     68400         0        12       1    0      0       1     0    1     0   \n",
      "..      ...       ...       ...     ...  ...    ...     ...   ...  ...   ...   \n",
      "995   19400         1        18       0    0      1       1     0    0     1   \n",
      "996   40500         1        18       1    0      0       0     1    0     1   \n",
      "997   44800         0        24       0    1      0       0     1    1     0   \n",
      "998   79000         2        18       1    0      0       0     1    1     0   \n",
      "999   53600         1        24       0    0      1       0     1    0     1   \n",
      "\n",
      "     Married  Single  Close  Far  \n",
      "0          0       1      0    1  \n",
      "1          0       1      1    0  \n",
      "2          0       1      1    0  \n",
      "3          1       0      1    0  \n",
      "4          0       1      1    0  \n",
      "..       ...     ...    ...  ...  \n",
      "995        0       1      1    0  \n",
      "996        0       1      0    1  \n",
      "997        0       1      1    0  \n",
      "998        1       0      1    0  \n",
      "999        1       0      1    0  \n",
      "\n",
      "[1000 rows x 14 columns]\n"
     ]
    }
   ],
   "source": [
    "print(X)"
   ]
  },
  {
   "cell_type": "code",
   "execution_count": 88,
   "metadata": {},
   "outputs": [
    {
     "name": "stdout",
     "output_type": "stream",
     "text": [
      "0       Low\n",
      "1       Med\n",
      "2       Low\n",
      "3      High\n",
      "4       Med\n",
      "       ... \n",
      "995     Low\n",
      "996     Med\n",
      "997     Med\n",
      "998     Low\n",
      "999     Med\n",
      "Name: Amt_Spnt_Class, Length: 1000, dtype: object\n"
     ]
    }
   ],
   "source": [
    "print(y)"
   ]
  },
  {
   "cell_type": "code",
   "execution_count": 89,
   "metadata": {
    "pycharm": {
     "name": "#%%\n"
    }
   },
   "outputs": [],
   "source": [
    "#importing train_test_split to create validation set\n",
    "from sklearn.model_selection import train_test_split"
   ]
  },
  {
   "cell_type": "code",
   "execution_count": 90,
   "metadata": {
    "pycharm": {
     "name": "#%%\n"
    }
   },
   "outputs": [],
   "source": [
    "#creating the train and validation set\n",
    "X_train, X_valid, y_train, y_valid = train_test_split(X, y, random_state = 101, stratify=y, test_size=0.25)"
   ]
  },
  {
   "cell_type": "code",
   "execution_count": 91,
   "metadata": {
    "pycharm": {
     "name": "#%%\n"
    }
   },
   "outputs": [
    {
     "data": {
      "text/plain": [
       "Low     0.501333\n",
       "Med     0.249333\n",
       "High    0.249333\n",
       "Name: Amt_Spnt_Class, dtype: float64"
      ]
     },
     "execution_count": 91,
     "metadata": {},
     "output_type": "execute_result"
    }
   ],
   "source": [
    "# distribution in training set\n",
    "y_train.value_counts(normalize=True)"
   ]
  },
  {
   "cell_type": "code",
   "execution_count": 92,
   "metadata": {
    "pycharm": {
     "name": "#%%\n"
    }
   },
   "outputs": [
    {
     "data": {
      "text/plain": [
       "Low     0.500\n",
       "High    0.252\n",
       "Med     0.248\n",
       "Name: Amt_Spnt_Class, dtype: float64"
      ]
     },
     "execution_count": 92,
     "metadata": {},
     "output_type": "execute_result"
    }
   ],
   "source": [
    "# distribution in validation set\n",
    "y_valid.value_counts(normalize=True)"
   ]
  },
  {
   "cell_type": "code",
   "execution_count": 93,
   "metadata": {
    "pycharm": {
     "name": "#%%\n"
    }
   },
   "outputs": [
    {
     "data": {
      "text/plain": [
       "((750, 14), (750,))"
      ]
     },
     "execution_count": 93,
     "metadata": {},
     "output_type": "execute_result"
    }
   ],
   "source": [
    "#shape of training set\n",
    "X_train.shape, y_train.shape"
   ]
  },
  {
   "cell_type": "code",
   "execution_count": 94,
   "metadata": {
    "pycharm": {
     "name": "#%%\n"
    }
   },
   "outputs": [
    {
     "data": {
      "text/plain": [
       "((250, 14), (250,))"
      ]
     },
     "execution_count": 94,
     "metadata": {},
     "output_type": "execute_result"
    }
   ],
   "source": [
    "#shape of validation set\n",
    "X_valid.shape, y_valid.shape"
   ]
  },
  {
   "cell_type": "code",
   "execution_count": 95,
   "metadata": {
    "pycharm": {
     "name": "#%%\n"
    }
   },
   "outputs": [],
   "source": [
    "#importing decision tree classifier \n",
    "from sklearn.linear_model import LogisticRegression"
   ]
  },
  {
   "cell_type": "code",
   "execution_count": 96,
   "metadata": {
    "pycharm": {
     "name": "#%%\n"
    }
   },
   "outputs": [],
   "source": [
    "#creating the Logistic regression model\n",
    "logreg_model = LogisticRegression(random_state=10)"
   ]
  },
  {
   "cell_type": "code",
   "execution_count": 97,
   "metadata": {
    "pycharm": {
     "name": "#%%\n"
    }
   },
   "outputs": [
    {
     "name": "stderr",
     "output_type": "stream",
     "text": [
      "C:\\Anaconda\\lib\\site-packages\\sklearn\\linear_model\\logistic.py:432: FutureWarning: Default solver will be changed to 'lbfgs' in 0.22. Specify a solver to silence this warning.\n",
      "  FutureWarning)\n",
      "C:\\Anaconda\\lib\\site-packages\\sklearn\\linear_model\\logistic.py:469: FutureWarning: Default multi_class will be changed to 'auto' in 0.22. Specify the multi_class option to silence this warning.\n",
      "  \"this warning.\", FutureWarning)\n"
     ]
    },
    {
     "data": {
      "text/plain": [
       "LogisticRegression(C=1.0, class_weight=None, dual=False, fit_intercept=True,\n",
       "                   intercept_scaling=1, l1_ratio=None, max_iter=100,\n",
       "                   multi_class='warn', n_jobs=None, penalty='l2',\n",
       "                   random_state=10, solver='warn', tol=0.0001, verbose=0,\n",
       "                   warm_start=False)"
      ]
     },
     "execution_count": 97,
     "metadata": {},
     "output_type": "execute_result"
    }
   ],
   "source": [
    "#fitting the model\n",
    "logreg_model.fit(X_train, y_train)"
   ]
  },
  {
   "cell_type": "code",
   "execution_count": 98,
   "metadata": {
    "pycharm": {
     "name": "#%%\n"
    }
   },
   "outputs": [
    {
     "data": {
      "text/plain": [
       "0.672"
      ]
     },
     "execution_count": 98,
     "metadata": {},
     "output_type": "execute_result"
    }
   ],
   "source": [
    "#checking the training score\n",
    "logreg_model.score(X_train, y_train)"
   ]
  },
  {
   "cell_type": "code",
   "execution_count": 99,
   "metadata": {
    "pycharm": {
     "name": "#%%\n"
    }
   },
   "outputs": [
    {
     "data": {
      "text/plain": [
       "0.696"
      ]
     },
     "execution_count": 99,
     "metadata": {},
     "output_type": "execute_result"
    }
   ],
   "source": [
    "#checking the validation score\n",
    "logreg_model.score(X_valid, y_valid)"
   ]
  },
  {
   "cell_type": "code",
   "execution_count": 100,
   "metadata": {
    "pycharm": {
     "name": "#%%\n"
    }
   },
   "outputs": [
    {
     "data": {
      "text/plain": [
       "array(['Low', 'Med', 'Low', 'Low', 'Low', 'Low', 'Med', 'Low', 'Low',\n",
       "       'Low', 'Low', 'Med', 'Low', 'High', 'High', 'High', 'High', 'Low',\n",
       "       'High', 'Low', 'Low', 'Med', 'High', 'High', 'Low', 'Low', 'Low',\n",
       "       'High', 'Med', 'Low', 'Low', 'Low', 'Low', 'High', 'High', 'Low',\n",
       "       'Low', 'High', 'High', 'High', 'Low', 'Low', 'High', 'Low', 'Low',\n",
       "       'Low', 'Low', 'Low', 'Low', 'Low', 'Low', 'Low', 'Med', 'High',\n",
       "       'Low', 'Low', 'Med', 'High', 'Low', 'Low', 'Low', 'Med', 'High',\n",
       "       'Med', 'High', 'High', 'Med', 'Low', 'Low', 'High', 'Low', 'Low',\n",
       "       'High', 'Low', 'High', 'High', 'High', 'High', 'Low', 'Low',\n",
       "       'High', 'Low', 'Low', 'Low', 'Low', 'Med', 'Low', 'Low', 'Low',\n",
       "       'High', 'Low', 'Low', 'Low', 'Low', 'Low', 'High', 'Low', 'Med',\n",
       "       'Med', 'Low', 'High', 'Low', 'High', 'Med', 'High', 'High', 'Low',\n",
       "       'Low', 'Low', 'Low', 'High', 'High', 'Med', 'High', 'Low', 'High',\n",
       "       'Low', 'Low', 'Low', 'High', 'Low', 'High', 'High', 'Low', 'High',\n",
       "       'High', 'Low', 'Low', 'Low', 'Low', 'Low', 'Low', 'Low', 'Low',\n",
       "       'Low', 'Low', 'High', 'High', 'High', 'Low', 'Low', 'Low', 'Med',\n",
       "       'Low', 'High', 'Low', 'High', 'Low', 'Low', 'High', 'Low', 'Low',\n",
       "       'Low', 'Low', 'High', 'High', 'Low', 'Low', 'Low', 'Low', 'Low',\n",
       "       'Low', 'Low', 'Low', 'High', 'Low', 'High', 'High', 'Low', 'Low',\n",
       "       'Low', 'Low', 'High', 'Low', 'High', 'High', 'Low', 'High', 'Low',\n",
       "       'Low', 'Med', 'High', 'Low', 'Low', 'High', 'Low', 'Low', 'Med',\n",
       "       'Low', 'High', 'Low', 'Low', 'Low', 'Low', 'Low', 'High', 'Low',\n",
       "       'Low', 'Low', 'High', 'High', 'High', 'Low', 'High', 'High', 'Low',\n",
       "       'Low', 'Low', 'Low', 'Low', 'Low', 'Low', 'Low', 'Low', 'Low',\n",
       "       'High', 'High', 'High', 'High', 'Low', 'Low', 'Low', 'High', 'Med',\n",
       "       'Low', 'Low', 'Low', 'Med', 'High', 'Low', 'Low', 'High', 'Low',\n",
       "       'High', 'Low', 'High', 'High', 'Low', 'Low', 'High', 'Low', 'Low',\n",
       "       'Low', 'High', 'Low', 'Low', 'Low', 'Low', 'Low', 'High'],\n",
       "      dtype=object)"
      ]
     },
     "execution_count": 100,
     "metadata": {},
     "output_type": "execute_result"
    }
   ],
   "source": [
    "#predictions on validation set\n",
    "y_pred = logreg_model.predict(X_valid)\n",
    "y_pred"
   ]
  },
  {
   "cell_type": "code",
   "execution_count": 101,
   "metadata": {},
   "outputs": [
    {
     "data": {
      "text/html": [
       "<div>\n",
       "<style scoped>\n",
       "    .dataframe tbody tr th:only-of-type {\n",
       "        vertical-align: middle;\n",
       "    }\n",
       "\n",
       "    .dataframe tbody tr th {\n",
       "        vertical-align: top;\n",
       "    }\n",
       "\n",
       "    .dataframe thead th {\n",
       "        text-align: right;\n",
       "    }\n",
       "</style>\n",
       "<table border=\"1\" class=\"dataframe\">\n",
       "  <thead>\n",
       "    <tr style=\"text-align: right;\">\n",
       "      <th></th>\n",
       "      <th>predicted high</th>\n",
       "      <th>predicted med</th>\n",
       "      <th>predicted low</th>\n",
       "    </tr>\n",
       "  </thead>\n",
       "  <tbody>\n",
       "    <tr>\n",
       "      <th>actual high</th>\n",
       "      <td>56</td>\n",
       "      <td>0</td>\n",
       "      <td>7</td>\n",
       "    </tr>\n",
       "    <tr>\n",
       "      <th>actual med</th>\n",
       "      <td>17</td>\n",
       "      <td>9</td>\n",
       "      <td>36</td>\n",
       "    </tr>\n",
       "    <tr>\n",
       "      <th>actual low</th>\n",
       "      <td>5</td>\n",
       "      <td>11</td>\n",
       "      <td>109</td>\n",
       "    </tr>\n",
       "  </tbody>\n",
       "</table>\n",
       "</div>"
      ],
      "text/plain": [
       "             predicted high  predicted med  predicted low\n",
       "actual high              56              0              7\n",
       "actual med               17              9             36\n",
       "actual low                5             11            109"
      ]
     },
     "execution_count": 101,
     "metadata": {},
     "output_type": "execute_result"
    }
   ],
   "source": [
    "from sklearn import metrics \n",
    "\n",
    "conf_matrix_logreg = pd.DataFrame(metrics.confusion_matrix(y_valid, y_pred, labels=['High','Med','Low']), index = ['actual high', 'actual med', 'actual low'], \n",
    "                               columns = ['predicted high', 'predicted med', 'predicted low'])\n",
    "\n",
    "conf_matrix_logreg"
   ]
  },
  {
   "cell_type": "code",
   "execution_count": 102,
   "metadata": {},
   "outputs": [
    {
     "data": {
      "image/png": "[encoded data removed]",
      "text/plain": [
       "<Figure size 720x576 with 2 Axes>"
      ]
     },
     "metadata": {
      "needs_background": "light"
     },
     "output_type": "display_data"
    }
   ],
   "source": [
    "fig, ax = plt.subplots(figsize = (10,8))\n",
    "\n",
    "\n",
    "sns.heatmap(conf_matrix_dt/np.sum(conf_matrix_logreg), annot=True, \n",
    "            fmt='.2%', cmap='Blues')\n",
    "\n",
    "ax.set_title('Logistic Regression Confusion Matrix', fontsize = 16, loc='left')\n",
    "\n",
    "plt.show()"
   ]
  },
  {
   "cell_type": "code",
   "execution_count": 103,
   "metadata": {
    "pycharm": {
     "name": "#%%\n"
    }
   },
   "outputs": [
    {
     "data": {
      "text/plain": [
       "array([[0.04991133, 0.48566672, 0.46442195],\n",
       "       [0.14264006, 0.40206174, 0.4552982 ],\n",
       "       [0.23742856, 0.53277704, 0.2297944 ],\n",
       "       [0.03012338, 0.55847298, 0.41140364],\n",
       "       [0.00569405, 0.60230812, 0.39199783],\n",
       "       [0.0840044 , 0.51801144, 0.39798416],\n",
       "       [0.26873768, 0.34742885, 0.38383347],\n",
       "       [0.09170065, 0.47735607, 0.43094328],\n",
       "       [0.24608111, 0.49677239, 0.2571465 ],\n",
       "       [0.18952864, 0.59056946, 0.21990189],\n",
       "       [0.00656584, 0.58565507, 0.40777909],\n",
       "       [0.19214299, 0.32000692, 0.48785009],\n",
       "       [0.04574375, 0.561974  , 0.39228226],\n",
       "       [0.55546401, 0.25128165, 0.19325434],\n",
       "       [0.70191822, 0.14177007, 0.15631171],\n",
       "       [0.62749748, 0.1476703 , 0.22483222],\n",
       "       [0.63979755, 0.17029517, 0.18990728],\n",
       "       [0.08273813, 0.52463364, 0.39262823],\n",
       "       [0.39586551, 0.32635202, 0.27778247],\n",
       "       [0.00848693, 0.64983579, 0.34167727],\n",
       "       [0.00531762, 0.60547707, 0.38920532],\n",
       "       [0.27931432, 0.34573722, 0.37494846],\n",
       "       [0.46711024, 0.22831966, 0.3045701 ],\n",
       "       [0.6103608 , 0.20809369, 0.18154552],\n",
       "       [0.00767244, 0.65219927, 0.34012829],\n",
       "       [0.03802336, 0.65140295, 0.31057369],\n",
       "       [0.20549484, 0.41265699, 0.38184817],\n",
       "       [0.56679861, 0.20656847, 0.22663292],\n",
       "       [0.20370423, 0.3925845 , 0.40371127],\n",
       "       [0.05045833, 0.47825947, 0.4712822 ],\n",
       "       [0.08079691, 0.58565053, 0.33355256],\n",
       "       [0.092119  , 0.50261247, 0.40526853],\n",
       "       [0.21409841, 0.50727698, 0.27862461],\n",
       "       [0.56323153, 0.24699698, 0.18977149],\n",
       "       [0.59348163, 0.18558591, 0.22093246],\n",
       "       [0.24089403, 0.43011566, 0.32899032],\n",
       "       [0.17347399, 0.4955312 , 0.33099481],\n",
       "       [0.47911231, 0.30104966, 0.21983804],\n",
       "       [0.61592149, 0.22240619, 0.16167233],\n",
       "       [0.44436983, 0.19430214, 0.36132804],\n",
       "       [0.18753715, 0.54485428, 0.26760857],\n",
       "       [0.02757956, 0.52152174, 0.4508987 ],\n",
       "       [0.57867021, 0.25742476, 0.16390503],\n",
       "       [0.02915047, 0.50122532, 0.46962421],\n",
       "       [0.0220839 , 0.61112945, 0.36678665],\n",
       "       [0.33811489, 0.40594012, 0.25594498],\n",
       "       [0.08272332, 0.57136863, 0.34590805],\n",
       "       [0.25814624, 0.38358431, 0.35826945],\n",
       "       [0.13011714, 0.58209027, 0.28779259],\n",
       "       [0.12953623, 0.44460107, 0.4258627 ],\n",
       "       [0.27091906, 0.3701805 , 0.35890044],\n",
       "       [0.00169037, 0.63657445, 0.36173518],\n",
       "       [0.05472321, 0.47204438, 0.47323241],\n",
       "       [0.55962572, 0.24415943, 0.19621485],\n",
       "       [0.22839202, 0.3929714 , 0.37863659],\n",
       "       [0.07795953, 0.52577953, 0.39626094],\n",
       "       [0.1962898 , 0.35303788, 0.45067232],\n",
       "       [0.59652607, 0.18318332, 0.22029061],\n",
       "       [0.05120426, 0.60390349, 0.34489225],\n",
       "       [0.02532379, 0.61011892, 0.36455729],\n",
       "       [0.13416109, 0.54875033, 0.31708858],\n",
       "       [0.33860285, 0.24626413, 0.41513303],\n",
       "       [0.46805656, 0.32353514, 0.2084083 ],\n",
       "       [0.12765975, 0.43030074, 0.44203951],\n",
       "       [0.46265878, 0.28363607, 0.25370515],\n",
       "       [0.64061595, 0.14783418, 0.21154987],\n",
       "       [0.29554518, 0.29177969, 0.41267513],\n",
       "       [0.31108029, 0.39118479, 0.29773492],\n",
       "       [0.25673155, 0.42154704, 0.32172141],\n",
       "       [0.51417683, 0.18962946, 0.29619371],\n",
       "       [0.23622599, 0.44587895, 0.31789506],\n",
       "       [0.11211588, 0.49452081, 0.39336331],\n",
       "       [0.38911657, 0.28627565, 0.32460778],\n",
       "       [0.00411816, 0.67285234, 0.3230295 ],\n",
       "       [0.34945094, 0.34645806, 0.304091  ],\n",
       "       [0.68544026, 0.1512941 , 0.16326564],\n",
       "       [0.65504616, 0.18630732, 0.15864652],\n",
       "       [0.68094043, 0.14584742, 0.17321215],\n",
       "       [0.06620054, 0.47332152, 0.46047795],\n",
       "       [0.2917961 , 0.35561326, 0.35259064],\n",
       "       [0.69350051, 0.15752719, 0.1489723 ],\n",
       "       [0.24169822, 0.49580564, 0.26249614],\n",
       "       [0.02937738, 0.58778651, 0.38283611],\n",
       "       [0.20014801, 0.47351179, 0.3263402 ],\n",
       "       [0.02174078, 0.5441524 , 0.43410682],\n",
       "       [0.23080579, 0.38018238, 0.38901183],\n",
       "       [0.19129254, 0.5808417 , 0.22786576],\n",
       "       [0.21737592, 0.52149691, 0.26112717],\n",
       "       [0.02495271, 0.60424342, 0.37080388],\n",
       "       [0.48436803, 0.33008257, 0.1855494 ],\n",
       "       [0.02313392, 0.61166504, 0.36520104],\n",
       "       [0.21663757, 0.51569224, 0.26767019],\n",
       "       [0.1858568 , 0.41832852, 0.39581468],\n",
       "       [0.02361018, 0.53890665, 0.43748317],\n",
       "       [0.06503538, 0.60598526, 0.32897936],\n",
       "       [0.48803496, 0.21453212, 0.29743292],\n",
       "       [0.08156213, 0.51997116, 0.39846671],\n",
       "       [0.37434511, 0.24764439, 0.3780105 ],\n",
       "       [0.22069931, 0.35012084, 0.42917984],\n",
       "       [0.13811922, 0.48836464, 0.37351614],\n",
       "       [0.49548495, 0.25847354, 0.24604151],\n",
       "       [0.01645552, 0.61786783, 0.36567665],\n",
       "       [0.4786664 , 0.26875832, 0.25257527],\n",
       "       [0.09032752, 0.44554616, 0.46412633],\n",
       "       [0.39999204, 0.23686544, 0.36314252],\n",
       "       [0.49676667, 0.29110998, 0.21212335],\n",
       "       [0.30291423, 0.34964752, 0.34743825],\n",
       "       [0.01129455, 0.69847591, 0.29022954],\n",
       "       [0.09800809, 0.50844456, 0.39354735],\n",
       "       [0.00112867, 0.65262504, 0.34624629],\n",
       "       [0.51749101, 0.28522864, 0.19728035],\n",
       "       [0.57313756, 0.19409078, 0.23277166],\n",
       "       [0.26115438, 0.35125   , 0.38759562],\n",
       "       [0.5601394 , 0.24660626, 0.19325435],\n",
       "       [0.01468075, 0.60824775, 0.3770715 ],\n",
       "       [0.48125167, 0.31179623, 0.2069521 ],\n",
       "       [0.00171529, 0.63595071, 0.362334  ],\n",
       "       [0.36921389, 0.40516013, 0.22562599],\n",
       "       [0.12019587, 0.54518243, 0.33462169],\n",
       "       [0.55410339, 0.20766921, 0.2382274 ],\n",
       "       [0.00509066, 0.7753376 , 0.21957174],\n",
       "       [0.45392846, 0.33554731, 0.21052422],\n",
       "       [0.44504864, 0.28553307, 0.26941829],\n",
       "       [0.22352916, 0.54556391, 0.23090693],\n",
       "       [0.63135826, 0.21232769, 0.15631405],\n",
       "       [0.66358086, 0.1782609 , 0.15815824],\n",
       "       [0.08201108, 0.59027568, 0.32771324],\n",
       "       [0.0231836 , 0.66934538, 0.30747102],\n",
       "       [0.0453201 , 0.62285667, 0.33182323],\n",
       "       [0.32945845, 0.4152631 , 0.25527845],\n",
       "       [0.02139107, 0.71188046, 0.26672847],\n",
       "       [0.0468741 , 0.72407116, 0.22905474],\n",
       "       [0.33185617, 0.36940602, 0.2987378 ],\n",
       "       [0.14268137, 0.62050822, 0.2368104 ],\n",
       "       [0.24654264, 0.44326999, 0.31018737],\n",
       "       [0.00845655, 0.64998881, 0.34155464],\n",
       "       [0.44049945, 0.32876113, 0.23073942],\n",
       "       [0.5689424 , 0.19572088, 0.23533672],\n",
       "       [0.54824429, 0.28144341, 0.17031231],\n",
       "       [0.14248067, 0.57923229, 0.27828704],\n",
       "       [0.18300251, 0.55315201, 0.26384548],\n",
       "       [0.05971828, 0.67465186, 0.26562986],\n",
       "       [0.09254899, 0.43545031, 0.47200071],\n",
       "       [0.28255093, 0.40591811, 0.31153096],\n",
       "       [0.40887984, 0.23083194, 0.36028821],\n",
       "       [0.3105047 , 0.44126635, 0.24822895],\n",
       "       [0.67969223, 0.15232433, 0.16798344],\n",
       "       [0.02117239, 0.725691  , 0.25313661],\n",
       "       [0.3427158 , 0.42777624, 0.22950796],\n",
       "       [0.45853319, 0.29093622, 0.25053059],\n",
       "       [0.1886145 , 0.53653408, 0.27485142],\n",
       "       [0.08360307, 0.52255584, 0.39384109],\n",
       "       [0.01220922, 0.55937685, 0.42841394],\n",
       "       [0.21017019, 0.43052101, 0.3593088 ],\n",
       "       [0.51177456, 0.31721271, 0.17101273],\n",
       "       [0.50080515, 0.20580928, 0.29338557],\n",
       "       [0.03137711, 0.57460202, 0.39402087],\n",
       "       [0.36893683, 0.39968074, 0.23138243],\n",
       "       [0.00896268, 0.645249  , 0.34578831],\n",
       "       [0.02454226, 0.66804633, 0.30741141],\n",
       "       [0.14869833, 0.52200751, 0.32929416],\n",
       "       [0.02257703, 0.67211493, 0.30530804],\n",
       "       [0.16546389, 0.47253962, 0.36199649],\n",
       "       [0.08626969, 0.51434667, 0.39938364],\n",
       "       [0.61018269, 0.17237877, 0.21743853],\n",
       "       [0.04336538, 0.56407977, 0.39255485],\n",
       "       [0.57736862, 0.22417572, 0.19845566],\n",
       "       [0.43399509, 0.34521789, 0.22078703],\n",
       "       [0.13891263, 0.48757192, 0.37351545],\n",
       "       [0.07940039, 0.64873459, 0.27186502],\n",
       "       [0.0421199 , 0.50790893, 0.44997116],\n",
       "       [0.01353948, 0.69133914, 0.29512138],\n",
       "       [0.42337008, 0.21167656, 0.36495336],\n",
       "       [0.07433263, 0.65910407, 0.2665633 ],\n",
       "       [0.57945842, 0.23332264, 0.18721895],\n",
       "       [0.57256901, 0.23913701, 0.18829398],\n",
       "       [0.09589128, 0.506917  , 0.39719172],\n",
       "       [0.61820691, 0.19849288, 0.18330021],\n",
       "       [0.11021482, 0.46473368, 0.4250515 ],\n",
       "       [0.00529182, 0.66210885, 0.33259933],\n",
       "       [0.16947052, 0.39436584, 0.43616365],\n",
       "       [0.39029749, 0.3269599 , 0.28274261],\n",
       "       [0.02857114, 0.58069355, 0.39073531],\n",
       "       [0.03142167, 0.54672881, 0.42184952],\n",
       "       [0.51612592, 0.27518865, 0.20868543],\n",
       "       [0.02819023, 0.50979218, 0.46201759],\n",
       "       [0.01732848, 0.55903187, 0.42363966],\n",
       "       [0.20248383, 0.34744389, 0.45007228],\n",
       "       [0.01126002, 0.58009447, 0.40864551],\n",
       "       [0.62373358, 0.18430028, 0.19196614],\n",
       "       [0.15355929, 0.54095091, 0.3054898 ],\n",
       "       [0.30338725, 0.46110489, 0.23550787],\n",
       "       [0.18388774, 0.48837225, 0.32774   ],\n",
       "       [0.07493754, 0.52073258, 0.40432988],\n",
       "       [0.02520235, 0.52474712, 0.45005053],\n",
       "       [0.47904262, 0.27147437, 0.24948301],\n",
       "       [0.00215332, 0.62586567, 0.37198102],\n",
       "       [0.07182643, 0.48305176, 0.4451218 ],\n",
       "       [0.02485988, 0.58924724, 0.38589288],\n",
       "       [0.60408686, 0.21113255, 0.18478059],\n",
       "       [0.41811876, 0.31568855, 0.2661927 ],\n",
       "       [0.60512492, 0.20057002, 0.19430507],\n",
       "       [0.00618618, 0.59836264, 0.39545119],\n",
       "       [0.50657612, 0.24710869, 0.24631519],\n",
       "       [0.41305708, 0.304928  , 0.28201492],\n",
       "       [0.21897995, 0.52610653, 0.25491351],\n",
       "       [0.23866752, 0.45391852, 0.30741396],\n",
       "       [0.01657494, 0.60164182, 0.38178324],\n",
       "       [0.09076362, 0.58337607, 0.32586032],\n",
       "       [0.38529794, 0.4142243 , 0.20047775],\n",
       "       [0.16814403, 0.43533285, 0.39652312],\n",
       "       [0.01807443, 0.6217563 , 0.36016927],\n",
       "       [0.12943808, 0.58541229, 0.28514963],\n",
       "       [0.17881263, 0.58727342, 0.23391395],\n",
       "       [0.01485356, 0.56692602, 0.41822042],\n",
       "       [0.5474859 , 0.17648738, 0.27602672],\n",
       "       [0.48609674, 0.30405636, 0.2098469 ],\n",
       "       [0.60679416, 0.19905178, 0.19415407],\n",
       "       [0.47968481, 0.27028818, 0.25002702],\n",
       "       [0.0612754 , 0.54262789, 0.39609672],\n",
       "       [0.05357425, 0.67754882, 0.26887693],\n",
       "       [0.05615176, 0.61822893, 0.3256193 ],\n",
       "       [0.57988559, 0.25252189, 0.16759251],\n",
       "       [0.33830906, 0.32230478, 0.33938616],\n",
       "       [0.00511135, 0.60727485, 0.3876138 ],\n",
       "       [0.04651513, 0.69880399, 0.25468089],\n",
       "       [0.29760926, 0.44779674, 0.254594  ],\n",
       "       [0.05219806, 0.47304281, 0.47475913],\n",
       "       [0.55756738, 0.23925663, 0.20317598],\n",
       "       [0.02043856, 0.73154114, 0.2480203 ],\n",
       "       [0.01674807, 0.5601165 , 0.42313544],\n",
       "       [0.39636373, 0.36050406, 0.24313221],\n",
       "       [0.35994547, 0.43029995, 0.20975458],\n",
       "       [0.42242528, 0.35791895, 0.21965577],\n",
       "       [0.10194163, 0.55929037, 0.338768  ],\n",
       "       [0.58867311, 0.22438231, 0.18694458],\n",
       "       [0.5524557 , 0.20826293, 0.23928137],\n",
       "       [0.00549666, 0.65919871, 0.33530463],\n",
       "       [0.07799015, 0.53284195, 0.3891679 ],\n",
       "       [0.64731475, 0.16597311, 0.18671215],\n",
       "       [0.14801829, 0.48076577, 0.37121594],\n",
       "       [0.01210814, 0.61806444, 0.36982742],\n",
       "       [0.17181041, 0.50263822, 0.32555137],\n",
       "       [0.58125013, 0.22085739, 0.19789248],\n",
       "       [0.06447544, 0.61911357, 0.31641098],\n",
       "       [0.06913592, 0.61647089, 0.31439319],\n",
       "       [0.1931162 , 0.52781186, 0.27907194],\n",
       "       [0.00717474, 0.63387252, 0.35895274],\n",
       "       [0.25882451, 0.37244817, 0.36872731],\n",
       "       [0.44454749, 0.32764566, 0.22780685]])"
      ]
     },
     "execution_count": 103,
     "metadata": {},
     "output_type": "execute_result"
    }
   ],
   "source": [
    "logreg_model.predict_proba(X_valid)"
   ]
  },
  {
   "cell_type": "code",
   "execution_count": 104,
   "metadata": {
    "pycharm": {
     "name": "#%%\n"
    }
   },
   "outputs": [],
   "source": [
    "y_pred_prob = logreg_model.predict_proba(X_valid)[:,1]"
   ]
  },
  {
   "cell_type": "code",
   "execution_count": 105,
   "metadata": {},
   "outputs": [
    {
     "data": {
      "text/plain": [
       "array([0.48566672, 0.40206174, 0.53277704, 0.55847298, 0.60230812,\n",
       "       0.51801144, 0.34742885, 0.47735607, 0.49677239, 0.59056946,\n",
       "       0.58565507, 0.32000692, 0.561974  , 0.25128165, 0.14177007,\n",
       "       0.1476703 , 0.17029517, 0.52463364, 0.32635202, 0.64983579,\n",
       "       0.60547707, 0.34573722, 0.22831966, 0.20809369, 0.65219927,\n",
       "       0.65140295, 0.41265699, 0.20656847, 0.3925845 , 0.47825947,\n",
       "       0.58565053, 0.50261247, 0.50727698, 0.24699698, 0.18558591,\n",
       "       0.43011566, 0.4955312 , 0.30104966, 0.22240619, 0.19430214,\n",
       "       0.54485428, 0.52152174, 0.25742476, 0.50122532, 0.61112945,\n",
       "       0.40594012, 0.57136863, 0.38358431, 0.58209027, 0.44460107,\n",
       "       0.3701805 , 0.63657445, 0.47204438, 0.24415943, 0.3929714 ,\n",
       "       0.52577953, 0.35303788, 0.18318332, 0.60390349, 0.61011892,\n",
       "       0.54875033, 0.24626413, 0.32353514, 0.43030074, 0.28363607,\n",
       "       0.14783418, 0.29177969, 0.39118479, 0.42154704, 0.18962946,\n",
       "       0.44587895, 0.49452081, 0.28627565, 0.67285234, 0.34645806,\n",
       "       0.1512941 , 0.18630732, 0.14584742, 0.47332152, 0.35561326,\n",
       "       0.15752719, 0.49580564, 0.58778651, 0.47351179, 0.5441524 ,\n",
       "       0.38018238, 0.5808417 , 0.52149691, 0.60424342, 0.33008257,\n",
       "       0.61166504, 0.51569224, 0.41832852, 0.53890665, 0.60598526,\n",
       "       0.21453212, 0.51997116, 0.24764439, 0.35012084, 0.48836464,\n",
       "       0.25847354, 0.61786783, 0.26875832, 0.44554616, 0.23686544,\n",
       "       0.29110998, 0.34964752, 0.69847591, 0.50844456, 0.65262504,\n",
       "       0.28522864, 0.19409078, 0.35125   , 0.24660626, 0.60824775,\n",
       "       0.31179623, 0.63595071, 0.40516013, 0.54518243, 0.20766921,\n",
       "       0.7753376 , 0.33554731, 0.28553307, 0.54556391, 0.21232769,\n",
       "       0.1782609 , 0.59027568, 0.66934538, 0.62285667, 0.4152631 ,\n",
       "       0.71188046, 0.72407116, 0.36940602, 0.62050822, 0.44326999,\n",
       "       0.64998881, 0.32876113, 0.19572088, 0.28144341, 0.57923229,\n",
       "       0.55315201, 0.67465186, 0.43545031, 0.40591811, 0.23083194,\n",
       "       0.44126635, 0.15232433, 0.725691  , 0.42777624, 0.29093622,\n",
       "       0.53653408, 0.52255584, 0.55937685, 0.43052101, 0.31721271,\n",
       "       0.20580928, 0.57460202, 0.39968074, 0.645249  , 0.66804633,\n",
       "       0.52200751, 0.67211493, 0.47253962, 0.51434667, 0.17237877,\n",
       "       0.56407977, 0.22417572, 0.34521789, 0.48757192, 0.64873459,\n",
       "       0.50790893, 0.69133914, 0.21167656, 0.65910407, 0.23332264,\n",
       "       0.23913701, 0.506917  , 0.19849288, 0.46473368, 0.66210885,\n",
       "       0.39436584, 0.3269599 , 0.58069355, 0.54672881, 0.27518865,\n",
       "       0.50979218, 0.55903187, 0.34744389, 0.58009447, 0.18430028,\n",
       "       0.54095091, 0.46110489, 0.48837225, 0.52073258, 0.52474712,\n",
       "       0.27147437, 0.62586567, 0.48305176, 0.58924724, 0.21113255,\n",
       "       0.31568855, 0.20057002, 0.59836264, 0.24710869, 0.304928  ,\n",
       "       0.52610653, 0.45391852, 0.60164182, 0.58337607, 0.4142243 ,\n",
       "       0.43533285, 0.6217563 , 0.58541229, 0.58727342, 0.56692602,\n",
       "       0.17648738, 0.30405636, 0.19905178, 0.27028818, 0.54262789,\n",
       "       0.67754882, 0.61822893, 0.25252189, 0.32230478, 0.60727485,\n",
       "       0.69880399, 0.44779674, 0.47304281, 0.23925663, 0.73154114,\n",
       "       0.5601165 , 0.36050406, 0.43029995, 0.35791895, 0.55929037,\n",
       "       0.22438231, 0.20826293, 0.65919871, 0.53284195, 0.16597311,\n",
       "       0.48076577, 0.61806444, 0.50263822, 0.22085739, 0.61911357,\n",
       "       0.61647089, 0.52781186, 0.63387252, 0.37244817, 0.32764566])"
      ]
     },
     "execution_count": 105,
     "metadata": {},
     "output_type": "execute_result"
    }
   ],
   "source": [
    "y_pred_prob"
   ]
  },
  {
   "cell_type": "code",
   "execution_count": 106,
   "metadata": {},
   "outputs": [
    {
     "data": {
      "text/plain": [
       "0.696"
      ]
     },
     "execution_count": 106,
     "metadata": {},
     "output_type": "execute_result"
    }
   ],
   "source": [
    "# accuracy score\n",
    "metrics.accuracy_score(y_valid, y_pred)"
   ]
  },
  {
   "cell_type": "code",
   "execution_count": 107,
   "metadata": {},
   "outputs": [
    {
     "data": {
      "text/plain": [
       "array([0.88888889, 0.872     , 0.14516129])"
      ]
     },
     "execution_count": 107,
     "metadata": {},
     "output_type": "execute_result"
    }
   ],
   "source": [
    "# recall\n",
    "metrics.recall_score(y_valid, y_pred, average=None)"
   ]
  },
  {
   "cell_type": "code",
   "execution_count": 108,
   "metadata": {},
   "outputs": [
    {
     "data": {
      "text/plain": [
       "array([0.71794872, 0.71710526, 0.45      ])"
      ]
     },
     "execution_count": 108,
     "metadata": {},
     "output_type": "execute_result"
    }
   ],
   "source": [
    "# precision score\n",
    "metrics.precision_score(y_valid, y_pred, average=None)"
   ]
  },
  {
   "cell_type": "markdown",
   "metadata": {
    "pycharm": {
     "name": "#%%\n"
    }
   },
   "source": [
    "reference:\n",
    "\n",
    "https://towardsdatascience.com/logistic-regression-using-python-sklearn-numpy-mnist-handwriting-recognition-matplotlib-a6b31e2b166a"
   ]
  }
 ],
 "metadata": {
  "kernelspec": {
   "display_name": "Python 3",
   "language": "python",
   "name": "python3"
  },
  "language_info": {
   "codemirror_mode": {
    "name": "ipython",
    "version": 3
   },
   "file_extension": ".py",
   "mimetype": "text/x-python",
   "name": "python",
   "nbconvert_exporter": "python",
   "pygments_lexer": "ipython3",
   "version": "3.7.1"
  },
  "pycharm": {
   "stem_cell": {
    "cell_type": "raw",
    "metadata": {
     "collapsed": false
    },
    "source": []
   }
  }
 },
 "nbformat": 4,
 "nbformat_minor": 1
}
