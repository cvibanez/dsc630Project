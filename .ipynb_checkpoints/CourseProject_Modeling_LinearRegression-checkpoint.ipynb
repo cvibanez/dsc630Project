{
 "cells": [
  {
   "cell_type": "markdown",
   "metadata": {},
   "source": [
    "# Modeling with Linear Regression "
   ]
  },
  {
   "cell_type": "markdown",
   "metadata": {},
   "source": [
    "## Importing the libraries"
   ]
  },
  {
   "cell_type": "code",
   "execution_count": 50,
   "metadata": {
    "pycharm": {
     "is_executing": false,
     "name": "#%%\n"
    }
   },
   "outputs": [],
   "source": [
    "import numpy as np\n",
    "import matplotlib.pyplot as plt\n",
    "import pandas as pd\n",
    "\n",
    "from sklearn.linear_model import LinearRegression\n",
    "from sklearn.model_selection import train_test_split\n",
    "from sklearn.preprocessing import StandardScaler\n",
    "from sklearn.decomposition import PCA\n",
    "import seaborn as sns\n",
    "\n"
   ]
  },
  {
   "cell_type": "markdown",
   "metadata": {},
   "source": [
    "## Importing the dataset"
   ]
  },
  {
   "cell_type": "code",
   "execution_count": 51,
   "metadata": {
    "pycharm": {
     "is_executing": true,
     "name": "#%%\n"
    }
   },
   "outputs": [
    {
     "name": "stdout",
     "output_type": "stream",
     "text": [
      "     Salary  Children  Catalogs  Old  Young  Gender  OwnHome  Married  \\\n",
      "0     47500         0         6    1      0       0        0        1   \n",
      "1     63600         0         6    0      0       1        1        1   \n",
      "2     13500         0        18    0      1       0        1        1   \n",
      "3     85600         1        18    0      0       1        0        0   \n",
      "4     68400         0        12    0      0       0        0        1   \n",
      "..      ...       ...       ...  ...    ...     ...      ...      ...   \n",
      "995   19400         1        18    0      1       0        1        1   \n",
      "996   40500         1        18    0      0       1        1        1   \n",
      "997   44800         0        24    1      0       1        0        1   \n",
      "998   79000         2        18    0      0       1        0        0   \n",
      "999   53600         1        24    0      1       1        1        0   \n",
      "\n",
      "     Distance  AmountSpent  \n",
      "0           1          755  \n",
      "1           0         1318  \n",
      "2           0          296  \n",
      "3           0         2436  \n",
      "4           0         1304  \n",
      "..        ...          ...  \n",
      "995         0          384  \n",
      "996         1         1073  \n",
      "997         0         1417  \n",
      "998         0          671  \n",
      "999         0          973  \n",
      "\n",
      "[1000 rows x 10 columns]\n"
     ]
    }
   ],
   "source": [
    "data = pd.read_csv('Data/DirectMarketing_Cln_LR.csv')\n",
    "\n",
    "print(data)\n",
    "\n",
    "\n"
   ]
  },
  {
   "cell_type": "code",
   "execution_count": 52,
   "metadata": {
    "pycharm": {
     "name": "#%%\n"
    }
   },
   "outputs": [
    {
     "name": "stdout",
     "output_type": "stream",
     "text": [
      "Index(['Salary', 'Children', 'Catalogs', 'Old', 'Young', 'Gender', 'OwnHome',\n",
      "       'Married', 'Distance', 'AmountSpent'],\n",
      "      dtype='object')\n"
     ]
    }
   ],
   "source": [
    "print(data.columns)"
   ]
  },
  {
   "cell_type": "code",
   "execution_count": 53,
   "metadata": {},
   "outputs": [],
   "source": [
    "#seperating independent and dependent variables\n",
    "X = data.drop(['AmountSpent'], axis=1).values\n",
    "y = data['AmountSpent'].values\n",
    "sc = StandardScaler()\n",
    "X = sc.fit_transform(X)\n"
   ]
  },
  {
   "cell_type": "code",
   "execution_count": 54,
   "metadata": {},
   "outputs": [
    {
     "name": "stdout",
     "output_type": "stream",
     "text": [
      "Original number of features: 9\n",
      "Reduced number of features: 1\n"
     ]
    }
   ],
   "source": [
    "# Attempt at feature reduction using PCA \n",
    "\n",
    "# Create a PCA that will retain 99% of variance\n",
    "pca = PCA(n_components=0.1, whiten=True)\n",
    "\n",
    "# Conduct PCA\n",
    "features_pca = pca.fit_transform(X)\n",
    "\n",
    "# Show results\n",
    "print(\"Original number of features:\", X.shape[1])\n",
    "print(\"Reduced number of features:\", features_pca.shape[1])"
   ]
  },
  {
   "cell_type": "markdown",
   "metadata": {},
   "source": [
    "# Run Model with all features"
   ]
  },
  {
   "cell_type": "code",
   "execution_count": 55,
   "metadata": {
    "pycharm": {
     "name": "#%%\n"
    }
   },
   "outputs": [
    {
     "name": "stdout",
     "output_type": "stream",
     "text": [
      "coefficient of determination: 0.7116840833488567\n",
      "intercept: 1212.2696546624393\n",
      "slope: [ 659.9865722  -242.52033347  277.79307114    8.29311373   41.7857009\n",
      "  -13.83307476  -28.35909887   20.89203709  216.99246537]\n"
     ]
    }
   ],
   "source": [
    "X_train, X_test, y_train, y_test = train_test_split(X, y, test_size = 0.2, random_state = 1)\n",
    "model = LinearRegression()\n",
    "model.fit(X_train, y_train)\n",
    "r_sq = model.score(X_train, y_train)\n",
    "print('coefficient of determination:', r_sq)\n",
    "print('intercept:', model.intercept_)\n",
    "print('slope:', model.coef_)\n",
    "\n",
    "y_pred_all_features = model.predict(X_test)"
   ]
  },
  {
   "cell_type": "markdown",
   "metadata": {},
   "source": [
    "### Coefficient of determination\n",
    "#### The $R^2$ value of 0.71 or confidence interval of 71% \n",
    "\n",
    "\n",
    "### Intercept\n",
    "#### Intercept of 1203.845 is the amount that would be spent if all independent variables were zero. \n",
    "\n",
    "### Slope\n",
    "#### For each predictor 'Salary', 'Children', 'Catalogs', 'Old', 'Young', 'Gender', 'OwnHome','Married', 'Distance',  if their value goes up by one, 'AmountSpent', will be their respective slope in  *[656.57093037 -243.50236366  277.64981606    8.34886099   41.6982116 -13.83389792  -28.37283187   20.89161662  218.61659718]*. For example, for every one dollar increase in salary, amount spent will increase by 656.57, and decrease by 243.50 for every added child. It is worth noting the variations of increase/decrease among features.\n",
    "       "
   ]
  },
  {
   "cell_type": "markdown",
   "metadata": {},
   "source": [
    "# Run Model with ['Salary', 'Children', 'Catalogs','Gender']"
   ]
  },
  {
   "cell_type": "code",
   "execution_count": 56,
   "metadata": {},
   "outputs": [
    {
     "name": "stdout",
     "output_type": "stream",
     "text": [
      "coefficient of determination: 0.6597996191982207\n",
      "intercept: 1203.845\n",
      "slope: [ 614.7067424  -240.54417011  313.69381329  -16.59658213]\n"
     ]
    }
   ],
   "source": [
    "X = data[['Salary', 'Children', 'Catalogs','Gender']]\n",
    "X_train, X_test, y_train, y_test = train_test_split(X, y, test_size = 0.2, random_state = 1)\n",
    "from sklearn.preprocessing import StandardScaler\n",
    "sc = StandardScaler()\n",
    "X_train = sc.fit_transform(X_train)\n",
    "X_test = sc.transform(X_test)\n",
    "\n",
    "\n",
    "from sklearn.linear_model import LinearRegression\n",
    "model = LinearRegression()\n",
    "model.fit(X_train, y_train)\n",
    "\n",
    "r_sq = model.score(X_train, y_train)\n",
    "print('coefficient of determination:', r_sq)\n",
    "print('intercept:', model.intercept_)\n",
    "print('slope:', model.coef_)\n",
    "\n",
    "y_pred_selected_features = model.predict(X_test)"
   ]
  },
  {
   "cell_type": "markdown",
   "metadata": {},
   "source": [
    "#### In this case, $R^2$ went up to 65% . Intercept did not change and 1 dollar increase in salary added 614 to amount spent which is lower than the previous 2 models"
   ]
  },
  {
   "cell_type": "markdown",
   "metadata": {},
   "source": [
    "# Run Model with reduced   dimentianlity using PCA"
   ]
  },
  {
   "cell_type": "code",
   "execution_count": 83,
   "metadata": {},
   "outputs": [
    {
     "name": "stdout",
     "output_type": "stream",
     "text": [
      "coefficient of determination: 0.4735520252325828\n",
      "intercept: 1203.845\n",
      "slope: [658.74085737]\n"
     ]
    }
   ],
   "source": [
    "X = features_pca\n",
    "X_train, X_test, y_train, y_test = train_test_split(X, y, test_size = 0.2, random_state = 1)\n",
    "from sklearn.preprocessing import StandardScaler\n",
    "sc = StandardScaler()\n",
    "X_train = sc.fit_transform(X_train)\n",
    "X_test = sc.transform(X_test)\n",
    "\n",
    "\n",
    "from sklearn.linear_model import LinearRegression\n",
    "model = LinearRegression()\n",
    "model.fit(X_train, y_train)\n",
    "\n",
    "r_sq = model.score(X_train, y_train)\n",
    "print('coefficient of determination:', r_sq)\n",
    "print('intercept:', model.intercept_)\n",
    "print('slope:', model.coef_)\n",
    "\n",
    "y_pred_pca = model.predict(X_test)"
   ]
  },
  {
   "cell_type": "markdown",
   "metadata": {},
   "source": [
    "\n",
    "\n",
    "#### Note that reduced dimentianility lowered $R^2$ to 47%. Intercept did not change and 1 dollar increase in salary added 659 to amount spent which is only 3 dollars more than all features included in the model."
   ]
  },
  {
   "cell_type": "markdown",
   "metadata": {},
   "source": [
    "## Evaluating results with with PCA Data"
   ]
  },
  {
   "cell_type": "code",
   "execution_count": 84,
   "metadata": {},
   "outputs": [
    {
     "data": {
      "text/html": [
       "<div>\n",
       "<style scoped>\n",
       "    .dataframe tbody tr th:only-of-type {\n",
       "        vertical-align: middle;\n",
       "    }\n",
       "\n",
       "    .dataframe tbody tr th {\n",
       "        vertical-align: top;\n",
       "    }\n",
       "\n",
       "    .dataframe thead th {\n",
       "        text-align: right;\n",
       "    }\n",
       "</style>\n",
       "<table border=\"1\" class=\"dataframe\">\n",
       "  <thead>\n",
       "    <tr style=\"text-align: right;\">\n",
       "      <th></th>\n",
       "      <th>TestData</th>\n",
       "      <th>PredAllFeatures</th>\n",
       "      <th>PredPca</th>\n",
       "      <th>PredSelect</th>\n",
       "    </tr>\n",
       "  </thead>\n",
       "  <tbody>\n",
       "    <tr>\n",
       "      <th>0</th>\n",
       "      <td>857</td>\n",
       "      <td>1295.534434</td>\n",
       "      <td>1061.925885</td>\n",
       "      <td>1493.792637</td>\n",
       "    </tr>\n",
       "    <tr>\n",
       "      <th>1</th>\n",
       "      <td>2191</td>\n",
       "      <td>1887.888907</td>\n",
       "      <td>1364.254187</td>\n",
       "      <td>1537.672161</td>\n",
       "    </tr>\n",
       "    <tr>\n",
       "      <th>2</th>\n",
       "      <td>1071</td>\n",
       "      <td>1550.032086</td>\n",
       "      <td>1341.560353</td>\n",
       "      <td>1219.302853</td>\n",
       "    </tr>\n",
       "    <tr>\n",
       "      <th>3</th>\n",
       "      <td>983</td>\n",
       "      <td>1410.275587</td>\n",
       "      <td>1299.308579</td>\n",
       "      <td>1696.369370</td>\n",
       "    </tr>\n",
       "    <tr>\n",
       "      <th>4</th>\n",
       "      <td>1485</td>\n",
       "      <td>2265.459399</td>\n",
       "      <td>2286.929765</td>\n",
       "      <td>2319.889819</td>\n",
       "    </tr>\n",
       "  </tbody>\n",
       "</table>\n",
       "</div>"
      ],
      "text/plain": [
       "   TestData  PredAllFeatures      PredPca   PredSelect\n",
       "0       857      1295.534434  1061.925885  1493.792637\n",
       "1      2191      1887.888907  1364.254187  1537.672161\n",
       "2      1071      1550.032086  1341.560353  1219.302853\n",
       "3       983      1410.275587  1299.308579  1696.369370\n",
       "4      1485      2265.459399  2286.929765  2319.889819"
      ]
     },
     "execution_count": 84,
     "metadata": {},
     "output_type": "execute_result"
    }
   ],
   "source": [
    "data = {'TestData': y_test, 'PredAllFeatures': y_pred_all_features, 'PredPca':y_pred_pca,'PredSelect':y_pred_selected_features}\n",
    "df = pd.DataFrame(data=data)\n",
    "df.head()"
   ]
  },
  {
   "cell_type": "code",
   "execution_count": 85,
   "metadata": {},
   "outputs": [
    {
     "name": "stdout",
     "output_type": "stream",
     "text": [
      "810.6091700116785 1790.793554871017\n"
     ]
    },
    {
     "data": {
      "text/html": [
       "<div>\n",
       "<style scoped>\n",
       "    .dataframe tbody tr th:only-of-type {\n",
       "        vertical-align: middle;\n",
       "    }\n",
       "\n",
       "    .dataframe tbody tr th {\n",
       "        vertical-align: top;\n",
       "    }\n",
       "\n",
       "    .dataframe thead th {\n",
       "        text-align: right;\n",
       "    }\n",
       "</style>\n",
       "<table border=\"1\" class=\"dataframe\">\n",
       "  <thead>\n",
       "    <tr style=\"text-align: right;\">\n",
       "      <th></th>\n",
       "      <th>TestData</th>\n",
       "      <th>PredAllFeatures</th>\n",
       "      <th>PredPca</th>\n",
       "      <th>PredSelect</th>\n",
       "      <th>Test_cls</th>\n",
       "      <th>PredPca_cls</th>\n",
       "    </tr>\n",
       "  </thead>\n",
       "  <tbody>\n",
       "    <tr>\n",
       "      <th>0</th>\n",
       "      <td>857</td>\n",
       "      <td>1295.534434</td>\n",
       "      <td>1061.925885</td>\n",
       "      <td>1493.792637</td>\n",
       "      <td>Med</td>\n",
       "      <td>Med</td>\n",
       "    </tr>\n",
       "    <tr>\n",
       "      <th>1</th>\n",
       "      <td>2191</td>\n",
       "      <td>1887.888907</td>\n",
       "      <td>1364.254187</td>\n",
       "      <td>1537.672161</td>\n",
       "      <td>High</td>\n",
       "      <td>Med</td>\n",
       "    </tr>\n",
       "    <tr>\n",
       "      <th>2</th>\n",
       "      <td>1071</td>\n",
       "      <td>1550.032086</td>\n",
       "      <td>1341.560353</td>\n",
       "      <td>1219.302853</td>\n",
       "      <td>Med</td>\n",
       "      <td>Med</td>\n",
       "    </tr>\n",
       "    <tr>\n",
       "      <th>3</th>\n",
       "      <td>983</td>\n",
       "      <td>1410.275587</td>\n",
       "      <td>1299.308579</td>\n",
       "      <td>1696.369370</td>\n",
       "      <td>Med</td>\n",
       "      <td>Med</td>\n",
       "    </tr>\n",
       "    <tr>\n",
       "      <th>4</th>\n",
       "      <td>1485</td>\n",
       "      <td>2265.459399</td>\n",
       "      <td>2286.929765</td>\n",
       "      <td>2319.889819</td>\n",
       "      <td>Med</td>\n",
       "      <td>High</td>\n",
       "    </tr>\n",
       "    <tr>\n",
       "      <th>...</th>\n",
       "      <td>...</td>\n",
       "      <td>...</td>\n",
       "      <td>...</td>\n",
       "      <td>...</td>\n",
       "      <td>...</td>\n",
       "      <td>...</td>\n",
       "    </tr>\n",
       "    <tr>\n",
       "      <th>195</th>\n",
       "      <td>1985</td>\n",
       "      <td>1821.640592</td>\n",
       "      <td>1940.478024</td>\n",
       "      <td>1554.137377</td>\n",
       "      <td>High</td>\n",
       "      <td>High</td>\n",
       "    </tr>\n",
       "    <tr>\n",
       "      <th>196</th>\n",
       "      <td>757</td>\n",
       "      <td>614.882612</td>\n",
       "      <td>1596.266268</td>\n",
       "      <td>733.132763</td>\n",
       "      <td>Med</td>\n",
       "      <td>Med</td>\n",
       "    </tr>\n",
       "    <tr>\n",
       "      <th>197</th>\n",
       "      <td>526</td>\n",
       "      <td>492.118473</td>\n",
       "      <td>1229.000783</td>\n",
       "      <td>671.297056</td>\n",
       "      <td>Med</td>\n",
       "      <td>Med</td>\n",
       "    </tr>\n",
       "    <tr>\n",
       "      <th>198</th>\n",
       "      <td>340</td>\n",
       "      <td>540.845802</td>\n",
       "      <td>1645.421998</td>\n",
       "      <td>688.728512</td>\n",
       "      <td>Low</td>\n",
       "      <td>Med</td>\n",
       "    </tr>\n",
       "    <tr>\n",
       "      <th>199</th>\n",
       "      <td>459</td>\n",
       "      <td>378.646566</td>\n",
       "      <td>193.035482</td>\n",
       "      <td>495.517380</td>\n",
       "      <td>Low</td>\n",
       "      <td>Low</td>\n",
       "    </tr>\n",
       "  </tbody>\n",
       "</table>\n",
       "<p>200 rows × 6 columns</p>\n",
       "</div>"
      ],
      "text/plain": [
       "     TestData  PredAllFeatures      PredPca   PredSelect Test_cls PredPca_cls\n",
       "0         857      1295.534434  1061.925885  1493.792637      Med         Med\n",
       "1        2191      1887.888907  1364.254187  1537.672161     High         Med\n",
       "2        1071      1550.032086  1341.560353  1219.302853      Med         Med\n",
       "3         983      1410.275587  1299.308579  1696.369370      Med         Med\n",
       "4        1485      2265.459399  2286.929765  2319.889819      Med        High\n",
       "..        ...              ...          ...          ...      ...         ...\n",
       "195      1985      1821.640592  1940.478024  1554.137377     High        High\n",
       "196       757       614.882612  1596.266268   733.132763      Med         Med\n",
       "197       526       492.118473  1229.000783   671.297056      Med         Med\n",
       "198       340       540.845802  1645.421998   688.728512      Low         Med\n",
       "199       459       378.646566   193.035482   495.517380      Low         Low\n",
       "\n",
       "[200 rows x 6 columns]"
      ]
     },
     "execution_count": 85,
     "metadata": {},
     "output_type": "execute_result"
    }
   ],
   "source": [
    "TestData = pd.Series(df['TestData'])\n",
    "\n",
    "# Low\n",
    "lower_bound = TestData.quantile(0.25)\n",
    "\n",
    "# Med\n",
    "middle_bound = TestData.quantile(0.75)\n",
    "\n",
    "\n",
    "\n",
    "\n",
    "df.loc[(df['TestData'] > 0) & (df['TestData'] <= lower_bound),'Test_cls'] = 'Low'  \n",
    "df.loc[(df['TestData'] > lower_bound) & (df['TestData'] <= middle_bound), 'Test_cls'] = 'Med'  \n",
    "df.loc[(df['TestData'] > middle_bound), 'Test_cls'] = 'High'  \n",
    "\n",
    "PredPcaData = pd.Series(df['PredPca'])\n",
    "\n",
    "# Low\n",
    "lower_bound = PredPcaData.quantile(0.25)\n",
    "\n",
    "# Med\n",
    "middle_bound = PredPcaData.quantile(0.75)\n",
    "print(lower_bound,middle_bound)\n",
    "\n",
    "df.loc[(df['PredPca'] >= 0) & (df['PredPca'] <= lower_bound),'PredPca_cls'] = 'Low'  \n",
    "df.loc[(df['PredPca'] > lower_bound) & (df['PredPca'] <= middle_bound), 'PredPca_cls'] = 'Med'  \n",
    "df.loc[(df['PredPca'] > middle_bound), 'PredPca_cls'] = 'High'  \n",
    "df"
   ]
  },
  {
   "cell_type": "code",
   "execution_count": 87,
   "metadata": {},
   "outputs": [
    {
     "data": {
      "text/plain": [
       "TestData           0\n",
       "PredAllFeatures    0\n",
       "PredPca            0\n",
       "PredSelect         0\n",
       "Test_cls           0\n",
       "PredPca_cls        0\n",
       "dtype: int64"
      ]
     },
     "execution_count": 87,
     "metadata": {},
     "output_type": "execute_result"
    }
   ],
   "source": [
    "df['PredPca_cls'] = df['PredPca_cls'].fillna('low')\n",
    "df.isnull().sum()"
   ]
  },
  {
   "cell_type": "markdown",
   "metadata": {},
   "source": [
    "# Create a confusion matrix"
   ]
  },
  {
   "cell_type": "code",
   "execution_count": 88,
   "metadata": {},
   "outputs": [
    {
     "data": {
      "text/html": [
       "<div>\n",
       "<style scoped>\n",
       "    .dataframe tbody tr th:only-of-type {\n",
       "        vertical-align: middle;\n",
       "    }\n",
       "\n",
       "    .dataframe tbody tr th {\n",
       "        vertical-align: top;\n",
       "    }\n",
       "\n",
       "    .dataframe thead th {\n",
       "        text-align: right;\n",
       "    }\n",
       "</style>\n",
       "<table border=\"1\" class=\"dataframe\">\n",
       "  <thead>\n",
       "    <tr style=\"text-align: right;\">\n",
       "      <th></th>\n",
       "      <th>predicted high</th>\n",
       "      <th>predicted med</th>\n",
       "      <th>predicted low</th>\n",
       "    </tr>\n",
       "  </thead>\n",
       "  <tbody>\n",
       "    <tr>\n",
       "      <th>actual high</th>\n",
       "      <td>34</td>\n",
       "      <td>16</td>\n",
       "      <td>0</td>\n",
       "    </tr>\n",
       "    <tr>\n",
       "      <th>actual med</th>\n",
       "      <td>16</td>\n",
       "      <td>67</td>\n",
       "      <td>17</td>\n",
       "    </tr>\n",
       "    <tr>\n",
       "      <th>actual low</th>\n",
       "      <td>0</td>\n",
       "      <td>17</td>\n",
       "      <td>32</td>\n",
       "    </tr>\n",
       "  </tbody>\n",
       "</table>\n",
       "</div>"
      ],
      "text/plain": [
       "             predicted high  predicted med  predicted low\n",
       "actual high              34             16              0\n",
       "actual med               16             67             17\n",
       "actual low                0             17             32"
      ]
     },
     "execution_count": 88,
     "metadata": {},
     "output_type": "execute_result"
    }
   ],
   "source": [
    "from sklearn import metrics \n",
    "conf_matrix_lr = pd.DataFrame(metrics.confusion_matrix(df['Test_cls'], df['PredPca_cls'],labels=['High','Med','Low']), index = ['actual high', 'actual med', 'actual low'],columns = ['predicted high', 'predicted med', 'predicted low'])\n",
    "\n",
    "conf_matrix_lr"
   ]
  },
  {
   "cell_type": "markdown",
   "metadata": {},
   "source": [
    "# Plot the confusion matrix"
   ]
  },
  {
   "cell_type": "code",
   "execution_count": 75,
   "metadata": {},
   "outputs": [
    {
     "data": {
      "image/png": "[encoded data removed]",
      "text/plain": [
       "<Figure size 720x576 with 2 Axes>"
      ]
     },
     "metadata": {
      "needs_background": "light"
     },
     "output_type": "display_data"
    }
   ],
   "source": [
    "fig, ax = plt.subplots(figsize = (10,8))\n",
    "\n",
    "\n",
    "sns.heatmap(conf_matrix_lr/np.sum(conf_matrix_lr), annot=True, \n",
    "            fmt='.2%', cmap='Blues')\n",
    "\n",
    "ax.set_title('Linear Regression  Confusion Matrix', fontsize = 16, loc='left')\n",
    "\n",
    "plt.show()"
   ]
  },
  {
   "cell_type": "code",
   "execution_count": 78,
   "metadata": {},
   "outputs": [
    {
     "data": {
      "text/plain": [
       "0.665"
      ]
     },
     "execution_count": 78,
     "metadata": {},
     "output_type": "execute_result"
    }
   ],
   "source": [
    "# accuracy score\n",
    "test_accuracy = metrics.accuracy_score(df['Test_cls'], df['PredPca_cls'])\n",
    "test_accuracy"
   ]
  },
  {
   "cell_type": "code",
   "execution_count": 80,
   "metadata": {},
   "outputs": [
    {
     "data": {
      "text/plain": [
       "array([0.68, 0.64, 0.67, 0.  ])"
      ]
     },
     "execution_count": 80,
     "metadata": {},
     "output_type": "execute_result"
    }
   ],
   "source": [
    "# recall\n",
    "recall= metrics.recall_score(df['Test_cls'], df['PredPca_cls'], average=None)\n",
    "recall"
   ]
  },
  {
   "cell_type": "code",
   "execution_count": 82,
   "metadata": {},
   "outputs": [
    {
     "data": {
      "text/plain": [
       "array([0.68      , 0.65306122, 0.67      , 0.        ])"
      ]
     },
     "execution_count": 82,
     "metadata": {},
     "output_type": "execute_result"
    }
   ],
   "source": [
    "# precision score\n",
    "precision = metrics.precision_score(df['Test_cls'], df['PredPca_cls'], average=None)\n",
    "precision"
   ]
  },
  {
   "cell_type": "code",
   "execution_count": null,
   "metadata": {},
   "outputs": [],
   "source": []
  }
 ],
 "metadata": {
  "kernelspec": {
   "display_name": "Python 3",
   "language": "python",
   "name": "python3"
  },
  "language_info": {
   "codemirror_mode": {
    "name": "ipython",
    "version": 3
   },
   "file_extension": ".py",
   "mimetype": "text/x-python",
   "name": "python",
   "nbconvert_exporter": "python",
   "pygments_lexer": "ipython3",
   "version": "3.7.4"
  },
  "pycharm": {
   "stem_cell": {
    "cell_type": "raw",
    "metadata": {
     "collapsed": false
    },
    "source": []
   }
  }
 },
 "nbformat": 4,
 "nbformat_minor": 1
}
